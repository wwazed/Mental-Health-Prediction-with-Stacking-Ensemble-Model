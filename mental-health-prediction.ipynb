{
 "cells": [
  {
   "cell_type": "markdown",
   "id": "91c81710",
   "metadata": {
    "papermill": {
     "duration": 0.016299,
     "end_time": "2024-11-01T18:22:52.800403",
     "exception": false,
     "start_time": "2024-11-01T18:22:52.784104",
     "status": "completed"
    },
    "tags": []
   },
   "source": [
    "# **Load Data**"
   ]
  },
  {
   "cell_type": "code",
   "execution_count": 1,
   "id": "9239bc3e",
   "metadata": {
    "execution": {
     "iopub.execute_input": "2024-11-01T18:22:52.835214Z",
     "iopub.status.busy": "2024-11-01T18:22:52.834759Z",
     "iopub.status.idle": "2024-11-01T18:22:55.974130Z",
     "shell.execute_reply": "2024-11-01T18:22:55.972850Z"
    },
    "papermill": {
     "duration": 3.160471,
     "end_time": "2024-11-01T18:22:55.977062",
     "exception": false,
     "start_time": "2024-11-01T18:22:52.816591",
     "status": "completed"
    },
    "tags": []
   },
   "outputs": [],
   "source": [
    "import pandas as pd\n",
    "import numpy as np\n",
    "import matplotlib.pyplot as plt\n",
    "%matplotlib inline\n",
    "import seaborn as sns\n",
    "from sklearn.preprocessing import OrdinalEncoder\n",
    "from sklearn.model_selection import train_test_split\n",
    "from sklearn.metrics import accuracy_score\n",
    "from sklearn.metrics import classification_report, roc_curve, auc, RocCurveDisplay\n",
    "import optuna\n",
    "import torch"
   ]
  },
  {
   "cell_type": "code",
   "execution_count": 2,
   "id": "cfb15839",
   "metadata": {
    "execution": {
     "iopub.execute_input": "2024-11-01T18:22:56.010659Z",
     "iopub.status.busy": "2024-11-01T18:22:56.009376Z",
     "iopub.status.idle": "2024-11-01T18:22:57.169163Z",
     "shell.execute_reply": "2024-11-01T18:22:57.167903Z"
    },
    "papermill": {
     "duration": 1.179659,
     "end_time": "2024-11-01T18:22:57.172202",
     "exception": false,
     "start_time": "2024-11-01T18:22:55.992543",
     "status": "completed"
    },
    "tags": []
   },
   "outputs": [],
   "source": [
    "df_train = pd.read_csv('train.csv')\n",
    "df_test = pd.read_csv('test.csv')\n",
    "submission = pd.read_csv('sample_submission.csv')"
   ]
  },
  {
   "cell_type": "code",
   "execution_count": 3,
   "id": "a9131fa7",
   "metadata": {
    "execution": {
     "iopub.execute_input": "2024-11-01T18:22:57.206852Z",
     "iopub.status.busy": "2024-11-01T18:22:57.205720Z",
     "iopub.status.idle": "2024-11-01T18:22:57.251303Z",
     "shell.execute_reply": "2024-11-01T18:22:57.249882Z"
    },
    "papermill": {
     "duration": 0.065685,
     "end_time": "2024-11-01T18:22:57.253993",
     "exception": false,
     "start_time": "2024-11-01T18:22:57.188308",
     "status": "completed"
    },
    "tags": []
   },
   "outputs": [
    {
     "data": {
      "text/html": [
       "<div>\n",
       "<style scoped>\n",
       "    .dataframe tbody tr th:only-of-type {\n",
       "        vertical-align: middle;\n",
       "    }\n",
       "\n",
       "    .dataframe tbody tr th {\n",
       "        vertical-align: top;\n",
       "    }\n",
       "\n",
       "    .dataframe thead th {\n",
       "        text-align: right;\n",
       "    }\n",
       "</style>\n",
       "<table border=\"1\" class=\"dataframe\">\n",
       "  <thead>\n",
       "    <tr style=\"text-align: right;\">\n",
       "      <th></th>\n",
       "      <th>id</th>\n",
       "      <th>Name</th>\n",
       "      <th>Gender</th>\n",
       "      <th>Age</th>\n",
       "      <th>City</th>\n",
       "      <th>Working Professional or Student</th>\n",
       "      <th>Profession</th>\n",
       "      <th>Academic Pressure</th>\n",
       "      <th>Work Pressure</th>\n",
       "      <th>CGPA</th>\n",
       "      <th>Study Satisfaction</th>\n",
       "      <th>Job Satisfaction</th>\n",
       "      <th>Sleep Duration</th>\n",
       "      <th>Dietary Habits</th>\n",
       "      <th>Degree</th>\n",
       "      <th>Have you ever had suicidal thoughts ?</th>\n",
       "      <th>Work/Study Hours</th>\n",
       "      <th>Financial Stress</th>\n",
       "      <th>Family History of Mental Illness</th>\n",
       "      <th>Depression</th>\n",
       "    </tr>\n",
       "  </thead>\n",
       "  <tbody>\n",
       "    <tr>\n",
       "      <th>0</th>\n",
       "      <td>0</td>\n",
       "      <td>Aaradhya</td>\n",
       "      <td>Female</td>\n",
       "      <td>49.0</td>\n",
       "      <td>Ludhiana</td>\n",
       "      <td>Working Professional</td>\n",
       "      <td>Chef</td>\n",
       "      <td>NaN</td>\n",
       "      <td>5.0</td>\n",
       "      <td>NaN</td>\n",
       "      <td>NaN</td>\n",
       "      <td>2.0</td>\n",
       "      <td>More than 8 hours</td>\n",
       "      <td>Healthy</td>\n",
       "      <td>BHM</td>\n",
       "      <td>No</td>\n",
       "      <td>1.0</td>\n",
       "      <td>2.0</td>\n",
       "      <td>No</td>\n",
       "      <td>0</td>\n",
       "    </tr>\n",
       "    <tr>\n",
       "      <th>1</th>\n",
       "      <td>1</td>\n",
       "      <td>Vivan</td>\n",
       "      <td>Male</td>\n",
       "      <td>26.0</td>\n",
       "      <td>Varanasi</td>\n",
       "      <td>Working Professional</td>\n",
       "      <td>Teacher</td>\n",
       "      <td>NaN</td>\n",
       "      <td>4.0</td>\n",
       "      <td>NaN</td>\n",
       "      <td>NaN</td>\n",
       "      <td>3.0</td>\n",
       "      <td>Less than 5 hours</td>\n",
       "      <td>Unhealthy</td>\n",
       "      <td>LLB</td>\n",
       "      <td>Yes</td>\n",
       "      <td>7.0</td>\n",
       "      <td>3.0</td>\n",
       "      <td>No</td>\n",
       "      <td>1</td>\n",
       "    </tr>\n",
       "    <tr>\n",
       "      <th>2</th>\n",
       "      <td>2</td>\n",
       "      <td>Yuvraj</td>\n",
       "      <td>Male</td>\n",
       "      <td>33.0</td>\n",
       "      <td>Visakhapatnam</td>\n",
       "      <td>Student</td>\n",
       "      <td>NaN</td>\n",
       "      <td>5.0</td>\n",
       "      <td>NaN</td>\n",
       "      <td>8.97</td>\n",
       "      <td>2.0</td>\n",
       "      <td>NaN</td>\n",
       "      <td>5-6 hours</td>\n",
       "      <td>Healthy</td>\n",
       "      <td>B.Pharm</td>\n",
       "      <td>Yes</td>\n",
       "      <td>3.0</td>\n",
       "      <td>1.0</td>\n",
       "      <td>No</td>\n",
       "      <td>1</td>\n",
       "    </tr>\n",
       "    <tr>\n",
       "      <th>3</th>\n",
       "      <td>3</td>\n",
       "      <td>Yuvraj</td>\n",
       "      <td>Male</td>\n",
       "      <td>22.0</td>\n",
       "      <td>Mumbai</td>\n",
       "      <td>Working Professional</td>\n",
       "      <td>Teacher</td>\n",
       "      <td>NaN</td>\n",
       "      <td>5.0</td>\n",
       "      <td>NaN</td>\n",
       "      <td>NaN</td>\n",
       "      <td>1.0</td>\n",
       "      <td>Less than 5 hours</td>\n",
       "      <td>Moderate</td>\n",
       "      <td>BBA</td>\n",
       "      <td>Yes</td>\n",
       "      <td>10.0</td>\n",
       "      <td>1.0</td>\n",
       "      <td>Yes</td>\n",
       "      <td>1</td>\n",
       "    </tr>\n",
       "    <tr>\n",
       "      <th>4</th>\n",
       "      <td>4</td>\n",
       "      <td>Rhea</td>\n",
       "      <td>Female</td>\n",
       "      <td>30.0</td>\n",
       "      <td>Kanpur</td>\n",
       "      <td>Working Professional</td>\n",
       "      <td>Business Analyst</td>\n",
       "      <td>NaN</td>\n",
       "      <td>1.0</td>\n",
       "      <td>NaN</td>\n",
       "      <td>NaN</td>\n",
       "      <td>1.0</td>\n",
       "      <td>5-6 hours</td>\n",
       "      <td>Unhealthy</td>\n",
       "      <td>BBA</td>\n",
       "      <td>Yes</td>\n",
       "      <td>9.0</td>\n",
       "      <td>4.0</td>\n",
       "      <td>Yes</td>\n",
       "      <td>0</td>\n",
       "    </tr>\n",
       "  </tbody>\n",
       "</table>\n",
       "</div>"
      ],
      "text/plain": [
       "   id      Name  Gender   Age           City Working Professional or Student  \\\n",
       "0   0  Aaradhya  Female  49.0       Ludhiana            Working Professional   \n",
       "1   1     Vivan    Male  26.0       Varanasi            Working Professional   \n",
       "2   2    Yuvraj    Male  33.0  Visakhapatnam                         Student   \n",
       "3   3    Yuvraj    Male  22.0         Mumbai            Working Professional   \n",
       "4   4      Rhea  Female  30.0         Kanpur            Working Professional   \n",
       "\n",
       "         Profession  Academic Pressure  Work Pressure  CGPA  \\\n",
       "0              Chef                NaN            5.0   NaN   \n",
       "1           Teacher                NaN            4.0   NaN   \n",
       "2               NaN                5.0            NaN  8.97   \n",
       "3           Teacher                NaN            5.0   NaN   \n",
       "4  Business Analyst                NaN            1.0   NaN   \n",
       "\n",
       "   Study Satisfaction  Job Satisfaction     Sleep Duration Dietary Habits  \\\n",
       "0                 NaN               2.0  More than 8 hours        Healthy   \n",
       "1                 NaN               3.0  Less than 5 hours      Unhealthy   \n",
       "2                 2.0               NaN          5-6 hours        Healthy   \n",
       "3                 NaN               1.0  Less than 5 hours       Moderate   \n",
       "4                 NaN               1.0          5-6 hours      Unhealthy   \n",
       "\n",
       "    Degree Have you ever had suicidal thoughts ?  Work/Study Hours  \\\n",
       "0      BHM                                    No               1.0   \n",
       "1      LLB                                   Yes               7.0   \n",
       "2  B.Pharm                                   Yes               3.0   \n",
       "3      BBA                                   Yes              10.0   \n",
       "4      BBA                                   Yes               9.0   \n",
       "\n",
       "   Financial Stress Family History of Mental Illness  Depression  \n",
       "0               2.0                               No           0  \n",
       "1               3.0                               No           1  \n",
       "2               1.0                               No           1  \n",
       "3               1.0                              Yes           1  \n",
       "4               4.0                              Yes           0  "
      ]
     },
     "execution_count": 3,
     "metadata": {},
     "output_type": "execute_result"
    }
   ],
   "source": [
    "df_train.head()"
   ]
  },
  {
   "cell_type": "code",
   "execution_count": 4,
   "id": "05bb1bd1",
   "metadata": {
    "execution": {
     "iopub.execute_input": "2024-11-01T18:22:57.288549Z",
     "iopub.status.busy": "2024-11-01T18:22:57.288146Z",
     "iopub.status.idle": "2024-11-01T18:22:57.486069Z",
     "shell.execute_reply": "2024-11-01T18:22:57.484756Z"
    },
    "papermill": {
     "duration": 0.218923,
     "end_time": "2024-11-01T18:22:57.489124",
     "exception": false,
     "start_time": "2024-11-01T18:22:57.270201",
     "status": "completed"
    },
    "tags": []
   },
   "outputs": [
    {
     "name": "stdout",
     "output_type": "stream",
     "text": [
      "<class 'pandas.core.frame.DataFrame'>\n",
      "RangeIndex: 140700 entries, 0 to 140699\n",
      "Data columns (total 20 columns):\n",
      " #   Column                                 Non-Null Count   Dtype  \n",
      "---  ------                                 --------------   -----  \n",
      " 0   id                                     140700 non-null  int64  \n",
      " 1   Name                                   140700 non-null  object \n",
      " 2   Gender                                 140700 non-null  object \n",
      " 3   Age                                    140700 non-null  float64\n",
      " 4   City                                   140700 non-null  object \n",
      " 5   Working Professional or Student        140700 non-null  object \n",
      " 6   Profession                             104070 non-null  object \n",
      " 7   Academic Pressure                      27897 non-null   float64\n",
      " 8   Work Pressure                          112782 non-null  float64\n",
      " 9   CGPA                                   27898 non-null   float64\n",
      " 10  Study Satisfaction                     27897 non-null   float64\n",
      " 11  Job Satisfaction                       112790 non-null  float64\n",
      " 12  Sleep Duration                         140700 non-null  object \n",
      " 13  Dietary Habits                         140696 non-null  object \n",
      " 14  Degree                                 140698 non-null  object \n",
      " 15  Have you ever had suicidal thoughts ?  140700 non-null  object \n",
      " 16  Work/Study Hours                       140700 non-null  float64\n",
      " 17  Financial Stress                       140696 non-null  float64\n",
      " 18  Family History of Mental Illness       140700 non-null  object \n",
      " 19  Depression                             140700 non-null  int64  \n",
      "dtypes: float64(8), int64(2), object(10)\n",
      "memory usage: 21.5+ MB\n"
     ]
    }
   ],
   "source": [
    "df_train.info()"
   ]
  },
  {
   "cell_type": "code",
   "execution_count": 5,
   "id": "403bd107",
   "metadata": {
    "execution": {
     "iopub.execute_input": "2024-11-01T18:22:57.524401Z",
     "iopub.status.busy": "2024-11-01T18:22:57.523708Z",
     "iopub.status.idle": "2024-11-01T18:22:57.532109Z",
     "shell.execute_reply": "2024-11-01T18:22:57.530857Z"
    },
    "papermill": {
     "duration": 0.029024,
     "end_time": "2024-11-01T18:22:57.534810",
     "exception": false,
     "start_time": "2024-11-01T18:22:57.505786",
     "status": "completed"
    },
    "tags": []
   },
   "outputs": [
    {
     "data": {
      "text/plain": [
       "(140700, 20)"
      ]
     },
     "execution_count": 5,
     "metadata": {},
     "output_type": "execute_result"
    }
   ],
   "source": [
    "df_train.shape"
   ]
  },
  {
   "cell_type": "code",
   "execution_count": 6,
   "id": "8ae9fda5",
   "metadata": {
    "execution": {
     "iopub.execute_input": "2024-11-01T18:22:57.570030Z",
     "iopub.status.busy": "2024-11-01T18:22:57.569455Z",
     "iopub.status.idle": "2024-11-01T18:22:57.739248Z",
     "shell.execute_reply": "2024-11-01T18:22:57.737923Z"
    },
    "papermill": {
     "duration": 0.191389,
     "end_time": "2024-11-01T18:22:57.742372",
     "exception": false,
     "start_time": "2024-11-01T18:22:57.550983",
     "status": "completed"
    },
    "tags": []
   },
   "outputs": [
    {
     "data": {
      "text/plain": [
       "id                                            0\n",
       "Name                                          0\n",
       "Gender                                        0\n",
       "Age                                           0\n",
       "City                                          0\n",
       "Working Professional or Student               0\n",
       "Profession                                36630\n",
       "Academic Pressure                        112803\n",
       "Work Pressure                             27918\n",
       "CGPA                                     112802\n",
       "Study Satisfaction                       112803\n",
       "Job Satisfaction                          27910\n",
       "Sleep Duration                                0\n",
       "Dietary Habits                                4\n",
       "Degree                                        2\n",
       "Have you ever had suicidal thoughts ?         0\n",
       "Work/Study Hours                              0\n",
       "Financial Stress                              4\n",
       "Family History of Mental Illness              0\n",
       "Depression                                    0\n",
       "dtype: int64"
      ]
     },
     "execution_count": 6,
     "metadata": {},
     "output_type": "execute_result"
    }
   ],
   "source": [
    "df_train.isnull().sum()"
   ]
  },
  {
   "cell_type": "code",
   "execution_count": 7,
   "id": "2d4eeebd",
   "metadata": {
    "execution": {
     "iopub.execute_input": "2024-11-01T18:22:57.777841Z",
     "iopub.status.busy": "2024-11-01T18:22:57.777286Z",
     "iopub.status.idle": "2024-11-01T18:22:58.078165Z",
     "shell.execute_reply": "2024-11-01T18:22:58.076746Z"
    },
    "papermill": {
     "duration": 0.32245,
     "end_time": "2024-11-01T18:22:58.081448",
     "exception": false,
     "start_time": "2024-11-01T18:22:57.758998",
     "status": "completed"
    },
    "tags": []
   },
   "outputs": [
    {
     "data": {
      "image/png": "[encoded data removed]",
      "text/plain": [
       "<Figure size 1000x500 with 1 Axes>"
      ]
     },
     "metadata": {},
     "output_type": "display_data"
    }
   ],
   "source": [
    "plt.figure(figsize=(10, 5))\n",
    "uni_count = df_train['Depression'].value_counts()\n",
    "sns.barplot(x=uni_count.index, y=uni_count.values)\n",
    "plt.title(f\"Depression\")\n",
    "plt.show()"
   ]
  },
  {
   "cell_type": "markdown",
   "id": "2cead6a0",
   "metadata": {
    "papermill": {
     "duration": 0.016871,
     "end_time": "2024-11-01T18:22:58.115562",
     "exception": false,
     "start_time": "2024-11-01T18:22:58.098691",
     "status": "completed"
    },
    "tags": []
   },
   "source": [
    "# **Missing Data Handling**"
   ]
  },
  {
   "cell_type": "code",
   "execution_count": 8,
   "id": "24c771b5",
   "metadata": {
    "execution": {
     "iopub.execute_input": "2024-11-01T18:22:58.151898Z",
     "iopub.status.busy": "2024-11-01T18:22:58.150863Z",
     "iopub.status.idle": "2024-11-01T18:22:58.174702Z",
     "shell.execute_reply": "2024-11-01T18:22:58.173484Z"
    },
    "papermill": {
     "duration": 0.04529,
     "end_time": "2024-11-01T18:22:58.177547",
     "exception": false,
     "start_time": "2024-11-01T18:22:58.132257",
     "status": "completed"
    },
    "tags": []
   },
   "outputs": [],
   "source": [
    "num_columns = df_train.select_dtypes(include=['float64','int64']).columns\n",
    "cat_columns = df_train.select_dtypes(include='object').columns"
   ]
  },
  {
   "cell_type": "markdown",
   "id": "554aac82",
   "metadata": {
    "papermill": {
     "duration": 0.016543,
     "end_time": "2024-11-01T18:22:58.211467",
     "exception": false,
     "start_time": "2024-11-01T18:22:58.194924",
     "status": "completed"
    },
    "tags": []
   },
   "source": [
    "## **Filling Missing Values in Numeric Columns**"
   ]
  },
  {
   "cell_type": "markdown",
   "id": "d20122c5",
   "metadata": {
    "papermill": {
     "duration": 0.01649,
     "end_time": "2024-11-01T18:22:58.244703",
     "exception": false,
     "start_time": "2024-11-01T18:22:58.228213",
     "status": "completed"
    },
    "tags": []
   },
   "source": [
    "For Academic Pressure, CGPA, Study Satisfaction, Work Pressure and Job Satisfaction columns only"
   ]
  },
  {
   "cell_type": "code",
   "execution_count": 9,
   "id": "2c961177",
   "metadata": {
    "execution": {
     "iopub.execute_input": "2024-11-01T18:22:58.280848Z",
     "iopub.status.busy": "2024-11-01T18:22:58.279671Z",
     "iopub.status.idle": "2024-11-01T18:22:58.296852Z",
     "shell.execute_reply": "2024-11-01T18:22:58.295532Z"
    },
    "papermill": {
     "duration": 0.038663,
     "end_time": "2024-11-01T18:22:58.300037",
     "exception": false,
     "start_time": "2024-11-01T18:22:58.261374",
     "status": "completed"
    },
    "tags": []
   },
   "outputs": [
    {
     "data": {
      "text/plain": [
       "id                         0\n",
       "Age                        0\n",
       "Academic Pressure     112803\n",
       "Work Pressure          27918\n",
       "CGPA                  112802\n",
       "Study Satisfaction    112803\n",
       "Job Satisfaction       27910\n",
       "Work/Study Hours           0\n",
       "Financial Stress           4\n",
       "Depression                 0\n",
       "dtype: int64"
      ]
     },
     "execution_count": 9,
     "metadata": {},
     "output_type": "execute_result"
    }
   ],
   "source": [
    "df_train[num_columns].isnull().sum()"
   ]
  },
  {
   "cell_type": "code",
   "execution_count": 10,
   "id": "217bd206",
   "metadata": {
    "execution": {
     "iopub.execute_input": "2024-11-01T18:22:58.336783Z",
     "iopub.status.busy": "2024-11-01T18:22:58.336341Z",
     "iopub.status.idle": "2024-11-01T18:22:58.356453Z",
     "shell.execute_reply": "2024-11-01T18:22:58.355263Z"
    },
    "papermill": {
     "duration": 0.042154,
     "end_time": "2024-11-01T18:22:58.359501",
     "exception": false,
     "start_time": "2024-11-01T18:22:58.317347",
     "status": "completed"
    },
    "tags": []
   },
   "outputs": [],
   "source": [
    "def fillna_num(df):\n",
    "    columns = ['Academic Pressure', 'Work Pressure', 'CGPA', 'Study Satisfaction', 'Job Satisfaction']\n",
    "    for column in columns:\n",
    "        df[column] = df[column].fillna(-1) # Filled with -1\n",
    "    return df\n",
    "\n",
    "df_train = fillna_num(df_train)\n",
    "df_test = fillna_num(df_test)"
   ]
  },
  {
   "cell_type": "markdown",
   "id": "68416131",
   "metadata": {
    "papermill": {
     "duration": 0.016585,
     "end_time": "2024-11-01T18:22:58.393269",
     "exception": false,
     "start_time": "2024-11-01T18:22:58.376684",
     "status": "completed"
    },
    "tags": []
   },
   "source": [
    "For Financial Stress Column"
   ]
  },
  {
   "cell_type": "code",
   "execution_count": 11,
   "id": "acb629b6",
   "metadata": {
    "execution": {
     "iopub.execute_input": "2024-11-01T18:22:58.429497Z",
     "iopub.status.busy": "2024-11-01T18:22:58.428951Z",
     "iopub.status.idle": "2024-11-01T18:22:58.446297Z",
     "shell.execute_reply": "2024-11-01T18:22:58.444927Z"
    },
    "papermill": {
     "duration": 0.038525,
     "end_time": "2024-11-01T18:22:58.448801",
     "exception": false,
     "start_time": "2024-11-01T18:22:58.410276",
     "status": "completed"
    },
    "tags": []
   },
   "outputs": [
    {
     "data": {
      "text/plain": [
       "Financial Stress\n",
       "2.0    31451\n",
       "5.0    28279\n",
       "4.0    27765\n",
       "1.0    27211\n",
       "3.0    25990\n",
       "Name: count, dtype: int64"
      ]
     },
     "execution_count": 11,
     "metadata": {},
     "output_type": "execute_result"
    }
   ],
   "source": [
    "df_train['Financial Stress'].value_counts()"
   ]
  },
  {
   "cell_type": "code",
   "execution_count": 12,
   "id": "4187e466",
   "metadata": {
    "execution": {
     "iopub.execute_input": "2024-11-01T18:22:58.486784Z",
     "iopub.status.busy": "2024-11-01T18:22:58.486219Z",
     "iopub.status.idle": "2024-11-01T18:22:58.504367Z",
     "shell.execute_reply": "2024-11-01T18:22:58.503261Z"
    },
    "papermill": {
     "duration": 0.040353,
     "end_time": "2024-11-01T18:22:58.507262",
     "exception": false,
     "start_time": "2024-11-01T18:22:58.466909",
     "status": "completed"
    },
    "tags": []
   },
   "outputs": [],
   "source": [
    "df_train['Financial Stress'] = df_train['Financial Stress'].fillna(float(df_train['Financial Stress'].median())) # Filled with Median of the data in respected column\n",
    "df_test['Financial Stress'] = df_test['Financial Stress'].fillna(float(df_test['Financial Stress'].median()))"
   ]
  },
  {
   "cell_type": "code",
   "execution_count": 13,
   "id": "6c89c044",
   "metadata": {
    "execution": {
     "iopub.execute_input": "2024-11-01T18:22:58.546082Z",
     "iopub.status.busy": "2024-11-01T18:22:58.545601Z",
     "iopub.status.idle": "2024-11-01T18:22:58.563029Z",
     "shell.execute_reply": "2024-11-01T18:22:58.561864Z"
    },
    "papermill": {
     "duration": 0.038341,
     "end_time": "2024-11-01T18:22:58.565658",
     "exception": false,
     "start_time": "2024-11-01T18:22:58.527317",
     "status": "completed"
    },
    "tags": []
   },
   "outputs": [
    {
     "data": {
      "text/plain": [
       "id                    0\n",
       "Age                   0\n",
       "Academic Pressure     0\n",
       "Work Pressure         0\n",
       "CGPA                  0\n",
       "Study Satisfaction    0\n",
       "Job Satisfaction      0\n",
       "Work/Study Hours      0\n",
       "Financial Stress      0\n",
       "Depression            0\n",
       "dtype: int64"
      ]
     },
     "execution_count": 13,
     "metadata": {},
     "output_type": "execute_result"
    }
   ],
   "source": [
    "df_train[num_columns].isnull().sum()"
   ]
  },
  {
   "cell_type": "markdown",
   "id": "7698be87",
   "metadata": {
    "papermill": {
     "duration": 0.017018,
     "end_time": "2024-11-01T18:22:58.600159",
     "exception": false,
     "start_time": "2024-11-01T18:22:58.583141",
     "status": "completed"
    },
    "tags": []
   },
   "source": [
    "All numerical missing values are filled."
   ]
  },
  {
   "cell_type": "code",
   "execution_count": 14,
   "id": "e03ec3f9",
   "metadata": {
    "execution": {
     "iopub.execute_input": "2024-11-01T18:22:58.638133Z",
     "iopub.status.busy": "2024-11-01T18:22:58.637540Z",
     "iopub.status.idle": "2024-11-01T18:22:58.759497Z",
     "shell.execute_reply": "2024-11-01T18:22:58.758153Z"
    },
    "papermill": {
     "duration": 0.145145,
     "end_time": "2024-11-01T18:22:58.762568",
     "exception": false,
     "start_time": "2024-11-01T18:22:58.617423",
     "status": "completed"
    },
    "tags": []
   },
   "outputs": [
    {
     "data": {
      "text/html": [
       "<div>\n",
       "<style scoped>\n",
       "    .dataframe tbody tr th:only-of-type {\n",
       "        vertical-align: middle;\n",
       "    }\n",
       "\n",
       "    .dataframe tbody tr th {\n",
       "        vertical-align: top;\n",
       "    }\n",
       "\n",
       "    .dataframe thead th {\n",
       "        text-align: right;\n",
       "    }\n",
       "</style>\n",
       "<table border=\"1\" class=\"dataframe\">\n",
       "  <thead>\n",
       "    <tr style=\"text-align: right;\">\n",
       "      <th></th>\n",
       "      <th>id</th>\n",
       "      <th>Age</th>\n",
       "      <th>Academic Pressure</th>\n",
       "      <th>Work Pressure</th>\n",
       "      <th>CGPA</th>\n",
       "      <th>Study Satisfaction</th>\n",
       "      <th>Job Satisfaction</th>\n",
       "      <th>Work/Study Hours</th>\n",
       "      <th>Financial Stress</th>\n",
       "      <th>Depression</th>\n",
       "    </tr>\n",
       "  </thead>\n",
       "  <tbody>\n",
       "    <tr>\n",
       "      <th>count</th>\n",
       "      <td>140700.000000</td>\n",
       "      <td>140700.000000</td>\n",
       "      <td>140700.000000</td>\n",
       "      <td>140700.000000</td>\n",
       "      <td>140700.000000</td>\n",
       "      <td>140700.000000</td>\n",
       "      <td>140700.000000</td>\n",
       "      <td>140700.000000</td>\n",
       "      <td>140700.000000</td>\n",
       "      <td>140700.000000</td>\n",
       "    </tr>\n",
       "    <tr>\n",
       "      <th>mean</th>\n",
       "      <td>70349.500000</td>\n",
       "      <td>40.388621</td>\n",
       "      <td>-0.178699</td>\n",
       "      <td>2.205508</td>\n",
       "      <td>0.716835</td>\n",
       "      <td>-0.217825</td>\n",
       "      <td>2.186020</td>\n",
       "      <td>6.252679</td>\n",
       "      <td>2.988984</td>\n",
       "      <td>0.181713</td>\n",
       "    </tr>\n",
       "    <tr>\n",
       "      <th>std</th>\n",
       "      <td>40616.735775</td>\n",
       "      <td>12.384099</td>\n",
       "      <td>1.762205</td>\n",
       "      <td>2.031656</td>\n",
       "      <td>3.513295</td>\n",
       "      <td>1.685430</td>\n",
       "      <td>2.029611</td>\n",
       "      <td>3.853615</td>\n",
       "      <td>1.413613</td>\n",
       "      <td>0.385609</td>\n",
       "    </tr>\n",
       "    <tr>\n",
       "      <th>min</th>\n",
       "      <td>0.000000</td>\n",
       "      <td>18.000000</td>\n",
       "      <td>-1.000000</td>\n",
       "      <td>-1.000000</td>\n",
       "      <td>-1.000000</td>\n",
       "      <td>-1.000000</td>\n",
       "      <td>-1.000000</td>\n",
       "      <td>0.000000</td>\n",
       "      <td>1.000000</td>\n",
       "      <td>0.000000</td>\n",
       "    </tr>\n",
       "    <tr>\n",
       "      <th>25%</th>\n",
       "      <td>35174.750000</td>\n",
       "      <td>29.000000</td>\n",
       "      <td>-1.000000</td>\n",
       "      <td>1.000000</td>\n",
       "      <td>-1.000000</td>\n",
       "      <td>-1.000000</td>\n",
       "      <td>1.000000</td>\n",
       "      <td>3.000000</td>\n",
       "      <td>2.000000</td>\n",
       "      <td>0.000000</td>\n",
       "    </tr>\n",
       "    <tr>\n",
       "      <th>50%</th>\n",
       "      <td>70349.500000</td>\n",
       "      <td>42.000000</td>\n",
       "      <td>-1.000000</td>\n",
       "      <td>2.000000</td>\n",
       "      <td>-1.000000</td>\n",
       "      <td>-1.000000</td>\n",
       "      <td>2.000000</td>\n",
       "      <td>6.000000</td>\n",
       "      <td>3.000000</td>\n",
       "      <td>0.000000</td>\n",
       "    </tr>\n",
       "    <tr>\n",
       "      <th>75%</th>\n",
       "      <td>105524.250000</td>\n",
       "      <td>51.000000</td>\n",
       "      <td>-1.000000</td>\n",
       "      <td>4.000000</td>\n",
       "      <td>-1.000000</td>\n",
       "      <td>-1.000000</td>\n",
       "      <td>4.000000</td>\n",
       "      <td>10.000000</td>\n",
       "      <td>4.000000</td>\n",
       "      <td>0.000000</td>\n",
       "    </tr>\n",
       "    <tr>\n",
       "      <th>max</th>\n",
       "      <td>140699.000000</td>\n",
       "      <td>60.000000</td>\n",
       "      <td>5.000000</td>\n",
       "      <td>5.000000</td>\n",
       "      <td>10.000000</td>\n",
       "      <td>5.000000</td>\n",
       "      <td>5.000000</td>\n",
       "      <td>12.000000</td>\n",
       "      <td>5.000000</td>\n",
       "      <td>1.000000</td>\n",
       "    </tr>\n",
       "  </tbody>\n",
       "</table>\n",
       "</div>"
      ],
      "text/plain": [
       "                  id            Age  Academic Pressure  Work Pressure  \\\n",
       "count  140700.000000  140700.000000      140700.000000  140700.000000   \n",
       "mean    70349.500000      40.388621          -0.178699       2.205508   \n",
       "std     40616.735775      12.384099           1.762205       2.031656   \n",
       "min         0.000000      18.000000          -1.000000      -1.000000   \n",
       "25%     35174.750000      29.000000          -1.000000       1.000000   \n",
       "50%     70349.500000      42.000000          -1.000000       2.000000   \n",
       "75%    105524.250000      51.000000          -1.000000       4.000000   \n",
       "max    140699.000000      60.000000           5.000000       5.000000   \n",
       "\n",
       "                CGPA  Study Satisfaction  Job Satisfaction  Work/Study Hours  \\\n",
       "count  140700.000000       140700.000000     140700.000000     140700.000000   \n",
       "mean        0.716835           -0.217825          2.186020          6.252679   \n",
       "std         3.513295            1.685430          2.029611          3.853615   \n",
       "min        -1.000000           -1.000000         -1.000000          0.000000   \n",
       "25%        -1.000000           -1.000000          1.000000          3.000000   \n",
       "50%        -1.000000           -1.000000          2.000000          6.000000   \n",
       "75%        -1.000000           -1.000000          4.000000         10.000000   \n",
       "max        10.000000            5.000000          5.000000         12.000000   \n",
       "\n",
       "       Financial Stress     Depression  \n",
       "count     140700.000000  140700.000000  \n",
       "mean           2.988984       0.181713  \n",
       "std            1.413613       0.385609  \n",
       "min            1.000000       0.000000  \n",
       "25%            2.000000       0.000000  \n",
       "50%            3.000000       0.000000  \n",
       "75%            4.000000       0.000000  \n",
       "max            5.000000       1.000000  "
      ]
     },
     "execution_count": 14,
     "metadata": {},
     "output_type": "execute_result"
    }
   ],
   "source": [
    "df_train[num_columns].describe()"
   ]
  },
  {
   "cell_type": "code",
   "execution_count": 15,
   "id": "927b8f6e",
   "metadata": {
    "execution": {
     "iopub.execute_input": "2024-11-01T18:22:58.812994Z",
     "iopub.status.busy": "2024-11-01T18:22:58.812139Z",
     "iopub.status.idle": "2024-11-01T18:23:01.406596Z",
     "shell.execute_reply": "2024-11-01T18:23:01.405361Z"
    },
    "papermill": {
     "duration": 2.622459,
     "end_time": "2024-11-01T18:23:01.409217",
     "exception": false,
     "start_time": "2024-11-01T18:22:58.786758",
     "status": "completed"
    },
    "tags": []
   },
   "outputs": [
    {
     "data": {
      "image/png": "[encoded data removed]",
      "text/plain": [
       "<Figure size 1000x500 with 1 Axes>"
      ]
     },
     "metadata": {},
     "output_type": "display_data"
    },
    {
     "data": {
      "image/png": "[encoded data removed]",
      "text/plain": [
       "<Figure size 1000x500 with 1 Axes>"
      ]
     },
     "metadata": {},
     "output_type": "display_data"
    },
    {
     "data": {
      "image/png": "[encoded data removed]",
      "text/plain": [
       "<Figure size 1000x500 with 1 Axes>"
      ]
     },
     "metadata": {},
     "output_type": "display_data"
    },
    {
     "data": {
      "image/png": "[encoded data removed]",
      "text/plain": [
       "<Figure size 1000x500 with 1 Axes>"
      ]
     },
     "metadata": {},
     "output_type": "display_data"
    },
    {
     "data": {
      "image/png": "[encoded data removed]",
      "text/plain": [
       "<Figure size 1000x500 with 1 Axes>"
      ]
     },
     "metadata": {},
     "output_type": "display_data"
    },
    {
     "data": {
      "image/png": "[encoded data removed]",
      "text/plain": [
       "<Figure size 1000x500 with 1 Axes>"
      ]
     },
     "metadata": {},
     "output_type": "display_data"
    },
    {
     "data": {
      "image/png": "[encoded data removed]",
      "text/plain": [
       "<Figure size 1000x500 with 1 Axes>"
      ]
     },
     "metadata": {},
     "output_type": "display_data"
    },
    {
     "data": {
      "image/png": "[encoded data removed]",
      "text/plain": [
       "<Figure size 1000x500 with 1 Axes>"
      ]
     },
     "metadata": {},
     "output_type": "display_data"
    }
   ],
   "source": [
    "def make_hist(df):\n",
    "    num_columns = df.select_dtypes(include='float64').columns\n",
    "    for column in num_columns:\n",
    "        pvalue = df[df['Depression']== 0][column].to_numpy()\n",
    "        evalue = df[df['Depression']== 1][column].to_numpy()\n",
    "        fig, ax = plt.subplots(figsize=(10,5))\n",
    "        plot_range = [0,10]\n",
    "        if column == 'Age':\n",
    "            plot_range = [0,60]\n",
    "        ax.hist(pvalue, bins=10, range=plot_range, density=True, label='0')\n",
    "        ax.hist(evalue, bins=10, range=plot_range, density=True, label='1')\n",
    "        ax.legend()\n",
    "        ax.set_xlabel(f'{column}')\n",
    "        ax.set_ylabel('Fraction of data')\n",
    "        plt.show()\n",
    "\n",
    "make_hist(df_train)"
   ]
  },
  {
   "cell_type": "markdown",
   "id": "3fe28ba1",
   "metadata": {
    "papermill": {
     "duration": 0.020121,
     "end_time": "2024-11-01T18:23:01.449781",
     "exception": false,
     "start_time": "2024-11-01T18:23:01.429660",
     "status": "completed"
    },
    "tags": []
   },
   "source": [
    "## **Filling Missing Values in Categorical Column** "
   ]
  },
  {
   "cell_type": "code",
   "execution_count": 16,
   "id": "3879f76b",
   "metadata": {
    "execution": {
     "iopub.execute_input": "2024-11-01T18:23:01.493398Z",
     "iopub.status.busy": "2024-11-01T18:23:01.492444Z",
     "iopub.status.idle": "2024-11-01T18:23:01.668740Z",
     "shell.execute_reply": "2024-11-01T18:23:01.667649Z"
    },
    "papermill": {
     "duration": 0.20121,
     "end_time": "2024-11-01T18:23:01.671553",
     "exception": false,
     "start_time": "2024-11-01T18:23:01.470343",
     "status": "completed"
    },
    "tags": []
   },
   "outputs": [
    {
     "data": {
      "text/plain": [
       "Name                                         0\n",
       "Gender                                       0\n",
       "City                                         0\n",
       "Working Professional or Student              0\n",
       "Profession                               36630\n",
       "Sleep Duration                               0\n",
       "Dietary Habits                               4\n",
       "Degree                                       2\n",
       "Have you ever had suicidal thoughts ?        0\n",
       "Family History of Mental Illness             0\n",
       "dtype: int64"
      ]
     },
     "execution_count": 16,
     "metadata": {},
     "output_type": "execute_result"
    }
   ],
   "source": [
    "df_train[cat_columns].isnull().sum()"
   ]
  },
  {
   "cell_type": "code",
   "execution_count": 17,
   "id": "a4dbfc83",
   "metadata": {
    "execution": {
     "iopub.execute_input": "2024-11-01T18:23:01.716468Z",
     "iopub.status.busy": "2024-11-01T18:23:01.716065Z",
     "iopub.status.idle": "2024-11-01T18:23:01.881295Z",
     "shell.execute_reply": "2024-11-01T18:23:01.880005Z"
    },
    "papermill": {
     "duration": 0.191125,
     "end_time": "2024-11-01T18:23:01.884931",
     "exception": false,
     "start_time": "2024-11-01T18:23:01.693806",
     "status": "completed"
    },
    "tags": []
   },
   "outputs": [
    {
     "name": "stdout",
     "output_type": "stream",
     "text": [
      ".............................\n",
      "Profession\n",
      "Teacher           24906\n",
      "Content Writer     7814\n",
      "Architect          4370\n",
      "Consultant         4229\n",
      "HR Manager         4022\n",
      "                  ...  \n",
      "BBA                   1\n",
      "City Manager          1\n",
      "FamilyVirar           1\n",
      "B.Com                 1\n",
      "Yuvraj                1\n",
      "Name: count, Length: 64, dtype: int64\n",
      ".............................\n",
      "Sleep Duration\n",
      "Less than 5 hours    38784\n",
      "7-8 hours            36969\n",
      "More than 8 hours    32726\n",
      "5-6 hours            32142\n",
      "3-4 hours               12\n",
      "6-7 hours                8\n",
      "4-5 hours                7\n",
      "2-3 hours                5\n",
      "4-6 hours                5\n",
      "6-8 hours                4\n",
      "1-6 hours                4\n",
      "No                       4\n",
      "9-11 hours               2\n",
      "10-11 hours              2\n",
      "Sleep_Duration           2\n",
      "Unhealthy                2\n",
      "45                       2\n",
      "8-9 hours                2\n",
      "10-6 hours               1\n",
      "9-5                      1\n",
      "45-48 hours              1\n",
      "3-6 hours                1\n",
      "Work_Study_Hours         1\n",
      "49 hours                 1\n",
      "than 5 hours             1\n",
      "Pune                     1\n",
      "9-6 hours                1\n",
      "8 hours                  1\n",
      "35-36 hours              1\n",
      "Indore                   1\n",
      "1-3 hours                1\n",
      "55-66 hours              1\n",
      "Moderate                 1\n",
      "40-45 hours              1\n",
      "1-2 hours                1\n",
      "9-5 hours                1\n",
      "Name: count, dtype: int64\n",
      ".............................\n",
      "Dietary Habits\n",
      "Moderate             49705\n",
      "Unhealthy            46227\n",
      "Healthy              44741\n",
      "Yes                      2\n",
      "No                       2\n",
      "More Healthy             2\n",
      "No Healthy               1\n",
      "Class 12                 1\n",
      "Indoor                   1\n",
      "Male                     1\n",
      "Vegas                    1\n",
      "M.Tech                   1\n",
      "Less Healthy             1\n",
      "1.0                      1\n",
      "Electrician              1\n",
      "Hormonal                 1\n",
      "Mihir                    1\n",
      "Less than Healthy        1\n",
      "3                        1\n",
      "Gender                   1\n",
      "BSc                      1\n",
      "Pratham                  1\n",
      "2                        1\n",
      "Name: count, dtype: int64\n",
      ".............................\n",
      "Degree\n",
      "Class 12    14729\n",
      "B.Ed        11691\n",
      "B.Arch       8742\n",
      "B.Com        8113\n",
      "B.Pharm      5856\n",
      "            ...  \n",
      "Vivaan          1\n",
      "MTech           1\n",
      "29              1\n",
      "LLCom           1\n",
      "Advait          1\n",
      "Name: count, Length: 115, dtype: int64\n",
      ".............................\n",
      "Have you ever had suicidal thoughts ?\n",
      "No     71138\n",
      "Yes    69562\n",
      "Name: count, dtype: int64\n",
      ".............................\n",
      "Family History of Mental Illness\n",
      "No     70758\n",
      "Yes    69942\n",
      "Name: count, dtype: int64\n"
     ]
    }
   ],
   "source": [
    "sub_cat_columns = ['Profession', 'Sleep Duration', 'Dietary Habits', 'Degree', 'Have you ever had suicidal thoughts ?', 'Family History of Mental Illness']\n",
    "for column in sub_cat_columns:\n",
    "    print('.............................')\n",
    "    print(df_train[column].value_counts())"
   ]
  },
  {
   "cell_type": "code",
   "execution_count": 18,
   "id": "f729f8a0",
   "metadata": {
    "execution": {
     "iopub.execute_input": "2024-11-01T18:23:01.929852Z",
     "iopub.status.busy": "2024-11-01T18:23:01.929338Z",
     "iopub.status.idle": "2024-11-01T18:23:02.048534Z",
     "shell.execute_reply": "2024-11-01T18:23:02.047368Z"
    },
    "papermill": {
     "duration": 0.144319,
     "end_time": "2024-11-01T18:23:02.051379",
     "exception": false,
     "start_time": "2024-11-01T18:23:01.907060",
     "status": "completed"
    },
    "tags": []
   },
   "outputs": [
    {
     "name": "stderr",
     "output_type": "stream",
     "text": [
      "/var/folders/3c/r_lgphm557b3vln2970f1yth0000gn/T/ipykernel_1259/2222590251.py:6: FutureWarning: A value is trying to be set on a copy of a DataFrame or Series through chained assignment using an inplace method.\n",
      "The behavior will change in pandas 3.0. This inplace method will never work because the intermediate object on which we are setting values always behaves as a copy.\n",
      "\n",
      "For example, when doing 'df[col].method(value, inplace=True)', try using 'df.method({col: value}, inplace=True)' or df[col] = df[col].method(value) instead, to perform the operation inplace on the original object.\n",
      "\n",
      "\n",
      "  df[column].fillna('other', inplace=True)\n"
     ]
    }
   ],
   "source": [
    "# The missing values are filled with 'Other'\n",
    "\n",
    "def fillna_cat(df):\n",
    "    columns = ['Profession', 'Sleep Duration', 'Dietary Habits', 'Degree']\n",
    "    for column in columns:\n",
    "        df[column].fillna('other', inplace=True)\n",
    "    return df\n",
    "\n",
    "df_train = fillna_cat(df_train)\n",
    "df_test = fillna_cat(df_test)"
   ]
  },
  {
   "cell_type": "code",
   "execution_count": 19,
   "id": "454183c6",
   "metadata": {
    "execution": {
     "iopub.execute_input": "2024-11-01T18:23:02.095688Z",
     "iopub.status.busy": "2024-11-01T18:23:02.095227Z",
     "iopub.status.idle": "2024-11-01T18:23:04.791160Z",
     "shell.execute_reply": "2024-11-01T18:23:04.789807Z"
    },
    "papermill": {
     "duration": 2.721739,
     "end_time": "2024-11-01T18:23:04.794102",
     "exception": false,
     "start_time": "2024-11-01T18:23:02.072363",
     "status": "completed"
    },
    "tags": []
   },
   "outputs": [],
   "source": [
    "def fill_less_frequent_value(df):\n",
    "    columns = ['Profession', 'Sleep Duration', 'Dietary Habits', 'Degree']\n",
    "    for column in columns:\n",
    "        count = df[column].value_counts()\n",
    "        less_freq = count[count<20].index\n",
    "        df[column] = df[column].apply(lambda x: 'other' if x in less_freq else x)\n",
    "    return df\n",
    "\n",
    "df_train = fill_less_frequent_value(df_train)\n",
    "df_test = fill_less_frequent_value(df_test)"
   ]
  },
  {
   "cell_type": "markdown",
   "id": "0baa9a79",
   "metadata": {
    "papermill": {
     "duration": 0.021756,
     "end_time": "2024-11-01T18:23:04.836976",
     "exception": false,
     "start_time": "2024-11-01T18:23:04.815220",
     "status": "completed"
    },
    "tags": []
   },
   "source": [
    "## **Checking Everything Okay**"
   ]
  },
  {
   "cell_type": "code",
   "execution_count": 20,
   "id": "a08c95a3",
   "metadata": {
    "execution": {
     "iopub.execute_input": "2024-11-01T18:23:04.881179Z",
     "iopub.status.busy": "2024-11-01T18:23:04.880712Z",
     "iopub.status.idle": "2024-11-01T18:23:05.061183Z",
     "shell.execute_reply": "2024-11-01T18:23:05.059905Z"
    },
    "papermill": {
     "duration": 0.205917,
     "end_time": "2024-11-01T18:23:05.064213",
     "exception": false,
     "start_time": "2024-11-01T18:23:04.858296",
     "status": "completed"
    },
    "tags": []
   },
   "outputs": [
    {
     "data": {
      "text/plain": [
       "Name                                     0\n",
       "Gender                                   0\n",
       "City                                     0\n",
       "Working Professional or Student          0\n",
       "Profession                               0\n",
       "Sleep Duration                           0\n",
       "Dietary Habits                           0\n",
       "Degree                                   0\n",
       "Have you ever had suicidal thoughts ?    0\n",
       "Family History of Mental Illness         0\n",
       "dtype: int64"
      ]
     },
     "execution_count": 20,
     "metadata": {},
     "output_type": "execute_result"
    }
   ],
   "source": [
    "df_train[cat_columns].isnull().sum()"
   ]
  },
  {
   "cell_type": "code",
   "execution_count": 21,
   "id": "4a14dce5",
   "metadata": {
    "execution": {
     "iopub.execute_input": "2024-11-01T18:23:05.109953Z",
     "iopub.status.busy": "2024-11-01T18:23:05.109520Z",
     "iopub.status.idle": "2024-11-01T18:23:05.271141Z",
     "shell.execute_reply": "2024-11-01T18:23:05.270000Z"
    },
    "papermill": {
     "duration": 0.188891,
     "end_time": "2024-11-01T18:23:05.274419",
     "exception": false,
     "start_time": "2024-11-01T18:23:05.085528",
     "status": "completed"
    },
    "tags": []
   },
   "outputs": [
    {
     "name": "stdout",
     "output_type": "stream",
     "text": [
      ".............................\n",
      "Profession\n",
      "other                     36680\n",
      "Teacher                   24906\n",
      "Content Writer             7814\n",
      "Architect                  4370\n",
      "Consultant                 4229\n",
      "HR Manager                 4022\n",
      "Pharmacist                 3893\n",
      "Doctor                     3255\n",
      "Business Analyst           3161\n",
      "Entrepreneur               2968\n",
      "Chemist                    2967\n",
      "Chef                       2862\n",
      "Educational Consultant     2852\n",
      "Data Scientist             2390\n",
      "Researcher                 2328\n",
      "Lawyer                     2212\n",
      "Customer Support           2055\n",
      "Marketing Manager          1976\n",
      "Pilot                      1913\n",
      "Travel Consultant          1860\n",
      "Plumber                    1748\n",
      "Sales Executive            1739\n",
      "Manager                    1737\n",
      "Judge                      1712\n",
      "Electrician                1582\n",
      "Financial Analyst          1574\n",
      "Software Engineer          1510\n",
      "Civil Engineer             1470\n",
      "UX/UI Designer             1452\n",
      "Digital Marketer           1372\n",
      "Accountant                 1339\n",
      "Finanancial Analyst        1329\n",
      "Mechanical Engineer        1177\n",
      "Graphic Designer           1163\n",
      "Research Analyst            690\n",
      "Investment Banker           393\n",
      "Name: count, dtype: int64\n",
      ".............................\n",
      "Sleep Duration\n",
      "Less than 5 hours    38784\n",
      "7-8 hours            36969\n",
      "More than 8 hours    32726\n",
      "5-6 hours            32142\n",
      "other                   79\n",
      "Name: count, dtype: int64\n",
      ".............................\n",
      "Dietary Habits\n",
      "Moderate     49705\n",
      "Unhealthy    46227\n",
      "Healthy      44741\n",
      "other           27\n",
      "Name: count, dtype: int64\n",
      ".............................\n",
      "Degree\n",
      "Class 12    14729\n",
      "B.Ed        11691\n",
      "B.Arch       8742\n",
      "B.Com        8113\n",
      "B.Pharm      5856\n",
      "BCA          5739\n",
      "M.Ed         5668\n",
      "MCA          5234\n",
      "BBA          5030\n",
      "BSc          5027\n",
      "MSc          4879\n",
      "LLM          4647\n",
      "M.Pharm      4537\n",
      "M.Tech       4475\n",
      "B.Tech       4425\n",
      "LLB          4348\n",
      "BHM          4305\n",
      "MBA          3818\n",
      "BA           3750\n",
      "ME           3632\n",
      "MD           3383\n",
      "MHM          3286\n",
      "BE           3104\n",
      "PhD          3103\n",
      "M.Com        3094\n",
      "MBBS         3082\n",
      "MA           2887\n",
      "other         116\n",
      "Name: count, dtype: int64\n",
      ".............................\n",
      "Have you ever had suicidal thoughts ?\n",
      "No     71138\n",
      "Yes    69562\n",
      "Name: count, dtype: int64\n",
      ".............................\n",
      "Family History of Mental Illness\n",
      "No     70758\n",
      "Yes    69942\n",
      "Name: count, dtype: int64\n"
     ]
    }
   ],
   "source": [
    "sub_cat_columns = ['Profession', 'Sleep Duration', 'Dietary Habits', 'Degree', 'Have you ever had suicidal thoughts ?', 'Family History of Mental Illness']\n",
    "for column in sub_cat_columns:\n",
    "    print('.............................')\n",
    "    print(df_train[column].value_counts())"
   ]
  },
  {
   "cell_type": "markdown",
   "id": "25ce6764",
   "metadata": {
    "papermill": {
     "duration": 0.020892,
     "end_time": "2024-11-01T18:23:05.316886",
     "exception": false,
     "start_time": "2024-11-01T18:23:05.295994",
     "status": "completed"
    },
    "tags": []
   },
   "source": [
    "All missing values are filled up."
   ]
  },
  {
   "cell_type": "markdown",
   "id": "9a88173b",
   "metadata": {
    "papermill": {
     "duration": 0.020907,
     "end_time": "2024-11-01T18:23:05.359093",
     "exception": false,
     "start_time": "2024-11-01T18:23:05.338186",
     "status": "completed"
    },
    "tags": []
   },
   "source": [
    "# **Encoding**"
   ]
  },
  {
   "cell_type": "code",
   "execution_count": 22,
   "id": "8b29c584",
   "metadata": {
    "execution": {
     "iopub.execute_input": "2024-11-01T18:23:05.403549Z",
     "iopub.status.busy": "2024-11-01T18:23:05.403160Z",
     "iopub.status.idle": "2024-11-01T18:23:06.415610Z",
     "shell.execute_reply": "2024-11-01T18:23:06.414369Z"
    },
    "papermill": {
     "duration": 1.03842,
     "end_time": "2024-11-01T18:23:06.418874",
     "exception": false,
     "start_time": "2024-11-01T18:23:05.380454",
     "status": "completed"
    },
    "tags": []
   },
   "outputs": [],
   "source": [
    "def encoding(df):\n",
    "    cat_columns = df.select_dtypes(include='object').columns\n",
    "    \n",
    "    encoder = OrdinalEncoder()\n",
    "    df[cat_columns] = encoder.fit_transform(df[cat_columns].astype(str))\n",
    "    \n",
    "    return df\n",
    "\n",
    "df_train = encoding(df_train)\n",
    "df_test = encoding(df_test)"
   ]
  },
  {
   "cell_type": "markdown",
   "id": "05dfba86",
   "metadata": {
    "papermill": {
     "duration": 0.021393,
     "end_time": "2024-11-01T18:23:06.461921",
     "exception": false,
     "start_time": "2024-11-01T18:23:06.440528",
     "status": "completed"
    },
    "tags": []
   },
   "source": [
    "## **Correlation Matrix**"
   ]
  },
  {
   "cell_type": "code",
   "execution_count": 23,
   "id": "20a49c6d",
   "metadata": {
    "execution": {
     "iopub.execute_input": "2024-11-01T18:23:06.508347Z",
     "iopub.status.busy": "2024-11-01T18:23:06.507121Z",
     "iopub.status.idle": "2024-11-01T18:23:07.491900Z",
     "shell.execute_reply": "2024-11-01T18:23:07.490485Z"
    },
    "papermill": {
     "duration": 1.011542,
     "end_time": "2024-11-01T18:23:07.495095",
     "exception": false,
     "start_time": "2024-11-01T18:23:06.483553",
     "status": "completed"
    },
    "tags": []
   },
   "outputs": [
    {
     "name": "stderr",
     "output_type": "stream",
     "text": [
      "/var/folders/3c/r_lgphm557b3vln2970f1yth0000gn/T/ipykernel_1259/355035135.py:2: FutureWarning: Series.__getitem__ treating keys as positions is deprecated. In a future version, integer keys will always be treated as labels (consistent with DataFrame behavior). To access a value by position, use `ser.iloc[pos]`\n",
      "  corr[np.argsort(corr,axis=0)[::-1]]\n"
     ]
    },
    {
     "data": {
      "image/png": "[encoded data removed]",
      "text/plain": [
       "<Figure size 800x800 with 2 Axes>"
      ]
     },
     "metadata": {},
     "output_type": "display_data"
    }
   ],
   "source": [
    "corr=df_train.corr()['Depression']\n",
    "corr[np.argsort(corr,axis=0)[::-1]]\n",
    "\n",
    "features_correlation = df_train.corr()\n",
    "plt.figure(figsize=(8,8))\n",
    "sns.heatmap(features_correlation,vmax=1,square=True,annot=False,cmap='Blues')\n",
    "plt.show()"
   ]
  },
  {
   "cell_type": "markdown",
   "id": "c13f0d3f",
   "metadata": {},
   "source": [
    "# **Stacking Ensemble**\n"
   ]
  },
  {
   "cell_type": "markdown",
   "id": "6738dadc",
   "metadata": {},
   "source": [
    "I developed a stacking ensemble model that includes four base models (Random Forest, SVM, K-Nearest Neighbors, and Decision Tree) and a logistic regression meta-model."
   ]
  },
  {
   "cell_type": "code",
   "execution_count": 24,
   "id": "c505b805",
   "metadata": {},
   "outputs": [],
   "source": [
    "X = df_train.drop(['id', 'Name', 'City', 'Depression'], axis=1)\n",
    "X_test = df_test.drop(['id', 'Name', 'City'], axis=1)\n",
    "y = df_train['Depression']"
   ]
  },
  {
   "cell_type": "code",
   "execution_count": 25,
   "id": "7e34de19",
   "metadata": {},
   "outputs": [],
   "source": [
    "from sklearn.ensemble import StackingClassifier\n",
    "from sklearn.ensemble import RandomForestClassifier\n",
    "from sklearn.svm import SVC\n",
    "from sklearn.linear_model import LogisticRegression\n",
    "from sklearn.neighbors import KNeighborsClassifier\n",
    "from sklearn.tree import DecisionTreeClassifier\n",
    "from sklearn.pipeline import make_pipeline\n",
    "from sklearn.preprocessing import StandardScaler"
   ]
  },
  {
   "cell_type": "markdown",
   "id": "51b27444",
   "metadata": {},
   "source": [
    "## **Defining Base Models**"
   ]
  },
  {
   "cell_type": "code",
   "execution_count": 26,
   "id": "0d6cf0f0",
   "metadata": {},
   "outputs": [],
   "source": [
    "base_models = [\n",
    "    ('random_forest', RandomForestClassifier(n_estimators=200, random_state=42)),\n",
    "    ('svm', make_pipeline(StandardScaler(), SVC(probability=True, random_state=42))),\n",
    "    ('knn', KNeighborsClassifier(n_neighbors=10)),\n",
    "    ('decision_tree', DecisionTreeClassifier(random_state=42))\n",
    "]"
   ]
  },
  {
   "cell_type": "markdown",
   "id": "7bab7292",
   "metadata": {},
   "source": [
    "## **Defining Meta Model**"
   ]
  },
  {
   "cell_type": "code",
   "execution_count": 27,
   "id": "c569ca06",
   "metadata": {},
   "outputs": [],
   "source": [
    "meta_model = LogisticRegression(random_state=42)"
   ]
  },
  {
   "cell_type": "markdown",
   "id": "8dc64d6a",
   "metadata": {},
   "source": [
    "## **Create Stacking Model**"
   ]
  },
  {
   "cell_type": "code",
   "execution_count": 28,
   "id": "6e2316aa",
   "metadata": {},
   "outputs": [],
   "source": [
    "stacking_model = StackingClassifier(\n",
    "    estimators=base_models,\n",
    "    final_estimator=meta_model,\n",
    "    cv=10\n",
    ")"
   ]
  },
  {
   "cell_type": "code",
   "execution_count": 29,
   "id": "c5d71c72",
   "metadata": {},
   "outputs": [],
   "source": [
    "X = df_train.drop(columns=['Depression'])\n",
    "y = df_train['Depression']\n",
    "\n",
    "X_train, X_val, y_train, y_val = train_test_split(X, y, test_size=0.2, random_state=42)"
   ]
  },
  {
   "cell_type": "code",
   "execution_count": 30,
   "id": "980166d3",
   "metadata": {},
   "outputs": [
    {
     "data": {
      "text/html": [
       "<style>#sk-container-id-1 {\n",
       "  /* Definition of color scheme common for light and dark mode */\n",
       "  --sklearn-color-text: black;\n",
       "  --sklearn-color-line: gray;\n",
       "  /* Definition of color scheme for unfitted estimators */\n",
       "  --sklearn-color-unfitted-level-0: #fff5e6;\n",
       "  --sklearn-color-unfitted-level-1: #f6e4d2;\n",
       "  --sklearn-color-unfitted-level-2: #ffe0b3;\n",
       "  --sklearn-color-unfitted-level-3: chocolate;\n",
       "  /* Definition of color scheme for fitted estimators */\n",
       "  --sklearn-color-fitted-level-0: #f0f8ff;\n",
       "  --sklearn-color-fitted-level-1: #d4ebff;\n",
       "  --sklearn-color-fitted-level-2: #b3dbfd;\n",
       "  --sklearn-color-fitted-level-3: cornflowerblue;\n",
       "\n",
       "  /* Specific color for light theme */\n",
       "  --sklearn-color-text-on-default-background: var(--sg-text-color, var(--theme-code-foreground, var(--jp-content-font-color1, black)));\n",
       "  --sklearn-color-background: var(--sg-background-color, var(--theme-background, var(--jp-layout-color0, white)));\n",
       "  --sklearn-color-border-box: var(--sg-text-color, var(--theme-code-foreground, var(--jp-content-font-color1, black)));\n",
       "  --sklearn-color-icon: #696969;\n",
       "\n",
       "  @media (prefers-color-scheme: dark) {\n",
       "    /* Redefinition of color scheme for dark theme */\n",
       "    --sklearn-color-text-on-default-background: var(--sg-text-color, var(--theme-code-foreground, var(--jp-content-font-color1, white)));\n",
       "    --sklearn-color-background: var(--sg-background-color, var(--theme-background, var(--jp-layout-color0, #111)));\n",
       "    --sklearn-color-border-box: var(--sg-text-color, var(--theme-code-foreground, var(--jp-content-font-color1, white)));\n",
       "    --sklearn-color-icon: #878787;\n",
       "  }\n",
       "}\n",
       "\n",
       "#sk-container-id-1 {\n",
       "  color: var(--sklearn-color-text);\n",
       "}\n",
       "\n",
       "#sk-container-id-1 pre {\n",
       "  padding: 0;\n",
       "}\n",
       "\n",
       "#sk-container-id-1 input.sk-hidden--visually {\n",
       "  border: 0;\n",
       "  clip: rect(1px 1px 1px 1px);\n",
       "  clip: rect(1px, 1px, 1px, 1px);\n",
       "  height: 1px;\n",
       "  margin: -1px;\n",
       "  overflow: hidden;\n",
       "  padding: 0;\n",
       "  position: absolute;\n",
       "  width: 1px;\n",
       "}\n",
       "\n",
       "#sk-container-id-1 div.sk-dashed-wrapped {\n",
       "  border: 1px dashed var(--sklearn-color-line);\n",
       "  margin: 0 0.4em 0.5em 0.4em;\n",
       "  box-sizing: border-box;\n",
       "  padding-bottom: 0.4em;\n",
       "  background-color: var(--sklearn-color-background);\n",
       "}\n",
       "\n",
       "#sk-container-id-1 div.sk-container {\n",
       "  /* jupyter's `normalize.less` sets `[hidden] { display: none; }`\n",
       "     but bootstrap.min.css set `[hidden] { display: none !important; }`\n",
       "     so we also need the `!important` here to be able to override the\n",
       "     default hidden behavior on the sphinx rendered scikit-learn.org.\n",
       "     See: https://github.com/scikit-learn/scikit-learn/issues/21755 */\n",
       "  display: inline-block !important;\n",
       "  position: relative;\n",
       "}\n",
       "\n",
       "#sk-container-id-1 div.sk-text-repr-fallback {\n",
       "  display: none;\n",
       "}\n",
       "\n",
       "div.sk-parallel-item,\n",
       "div.sk-serial,\n",
       "div.sk-item {\n",
       "  /* draw centered vertical line to link estimators */\n",
       "  background-image: linear-gradient(var(--sklearn-color-text-on-default-background), var(--sklearn-color-text-on-default-background));\n",
       "  background-size: 2px 100%;\n",
       "  background-repeat: no-repeat;\n",
       "  background-position: center center;\n",
       "}\n",
       "\n",
       "/* Parallel-specific style estimator block */\n",
       "\n",
       "#sk-container-id-1 div.sk-parallel-item::after {\n",
       "  content: \"\";\n",
       "  width: 100%;\n",
       "  border-bottom: 2px solid var(--sklearn-color-text-on-default-background);\n",
       "  flex-grow: 1;\n",
       "}\n",
       "\n",
       "#sk-container-id-1 div.sk-parallel {\n",
       "  display: flex;\n",
       "  align-items: stretch;\n",
       "  justify-content: center;\n",
       "  background-color: var(--sklearn-color-background);\n",
       "  position: relative;\n",
       "}\n",
       "\n",
       "#sk-container-id-1 div.sk-parallel-item {\n",
       "  display: flex;\n",
       "  flex-direction: column;\n",
       "}\n",
       "\n",
       "#sk-container-id-1 div.sk-parallel-item:first-child::after {\n",
       "  align-self: flex-end;\n",
       "  width: 50%;\n",
       "}\n",
       "\n",
       "#sk-container-id-1 div.sk-parallel-item:last-child::after {\n",
       "  align-self: flex-start;\n",
       "  width: 50%;\n",
       "}\n",
       "\n",
       "#sk-container-id-1 div.sk-parallel-item:only-child::after {\n",
       "  width: 0;\n",
       "}\n",
       "\n",
       "/* Serial-specific style estimator block */\n",
       "\n",
       "#sk-container-id-1 div.sk-serial {\n",
       "  display: flex;\n",
       "  flex-direction: column;\n",
       "  align-items: center;\n",
       "  background-color: var(--sklearn-color-background);\n",
       "  padding-right: 1em;\n",
       "  padding-left: 1em;\n",
       "}\n",
       "\n",
       "\n",
       "/* Toggleable style: style used for estimator/Pipeline/ColumnTransformer box that is\n",
       "clickable and can be expanded/collapsed.\n",
       "- Pipeline and ColumnTransformer use this feature and define the default style\n",
       "- Estimators will overwrite some part of the style using the `sk-estimator` class\n",
       "*/\n",
       "\n",
       "/* Pipeline and ColumnTransformer style (default) */\n",
       "\n",
       "#sk-container-id-1 div.sk-toggleable {\n",
       "  /* Default theme specific background. It is overwritten whether we have a\n",
       "  specific estimator or a Pipeline/ColumnTransformer */\n",
       "  background-color: var(--sklearn-color-background);\n",
       "}\n",
       "\n",
       "/* Toggleable label */\n",
       "#sk-container-id-1 label.sk-toggleable__label {\n",
       "  cursor: pointer;\n",
       "  display: block;\n",
       "  width: 100%;\n",
       "  margin-bottom: 0;\n",
       "  padding: 0.5em;\n",
       "  box-sizing: border-box;\n",
       "  text-align: center;\n",
       "}\n",
       "\n",
       "#sk-container-id-1 label.sk-toggleable__label-arrow:before {\n",
       "  /* Arrow on the left of the label */\n",
       "  content: \"▸\";\n",
       "  float: left;\n",
       "  margin-right: 0.25em;\n",
       "  color: var(--sklearn-color-icon);\n",
       "}\n",
       "\n",
       "#sk-container-id-1 label.sk-toggleable__label-arrow:hover:before {\n",
       "  color: var(--sklearn-color-text);\n",
       "}\n",
       "\n",
       "/* Toggleable content - dropdown */\n",
       "\n",
       "#sk-container-id-1 div.sk-toggleable__content {\n",
       "  max-height: 0;\n",
       "  max-width: 0;\n",
       "  overflow: hidden;\n",
       "  text-align: left;\n",
       "  /* unfitted */\n",
       "  background-color: var(--sklearn-color-unfitted-level-0);\n",
       "}\n",
       "\n",
       "#sk-container-id-1 div.sk-toggleable__content.fitted {\n",
       "  /* fitted */\n",
       "  background-color: var(--sklearn-color-fitted-level-0);\n",
       "}\n",
       "\n",
       "#sk-container-id-1 div.sk-toggleable__content pre {\n",
       "  margin: 0.2em;\n",
       "  border-radius: 0.25em;\n",
       "  color: var(--sklearn-color-text);\n",
       "  /* unfitted */\n",
       "  background-color: var(--sklearn-color-unfitted-level-0);\n",
       "}\n",
       "\n",
       "#sk-container-id-1 div.sk-toggleable__content.fitted pre {\n",
       "  /* unfitted */\n",
       "  background-color: var(--sklearn-color-fitted-level-0);\n",
       "}\n",
       "\n",
       "#sk-container-id-1 input.sk-toggleable__control:checked~div.sk-toggleable__content {\n",
       "  /* Expand drop-down */\n",
       "  max-height: 200px;\n",
       "  max-width: 100%;\n",
       "  overflow: auto;\n",
       "}\n",
       "\n",
       "#sk-container-id-1 input.sk-toggleable__control:checked~label.sk-toggleable__label-arrow:before {\n",
       "  content: \"▾\";\n",
       "}\n",
       "\n",
       "/* Pipeline/ColumnTransformer-specific style */\n",
       "\n",
       "#sk-container-id-1 div.sk-label input.sk-toggleable__control:checked~label.sk-toggleable__label {\n",
       "  color: var(--sklearn-color-text);\n",
       "  background-color: var(--sklearn-color-unfitted-level-2);\n",
       "}\n",
       "\n",
       "#sk-container-id-1 div.sk-label.fitted input.sk-toggleable__control:checked~label.sk-toggleable__label {\n",
       "  background-color: var(--sklearn-color-fitted-level-2);\n",
       "}\n",
       "\n",
       "/* Estimator-specific style */\n",
       "\n",
       "/* Colorize estimator box */\n",
       "#sk-container-id-1 div.sk-estimator input.sk-toggleable__control:checked~label.sk-toggleable__label {\n",
       "  /* unfitted */\n",
       "  background-color: var(--sklearn-color-unfitted-level-2);\n",
       "}\n",
       "\n",
       "#sk-container-id-1 div.sk-estimator.fitted input.sk-toggleable__control:checked~label.sk-toggleable__label {\n",
       "  /* fitted */\n",
       "  background-color: var(--sklearn-color-fitted-level-2);\n",
       "}\n",
       "\n",
       "#sk-container-id-1 div.sk-label label.sk-toggleable__label,\n",
       "#sk-container-id-1 div.sk-label label {\n",
       "  /* The background is the default theme color */\n",
       "  color: var(--sklearn-color-text-on-default-background);\n",
       "}\n",
       "\n",
       "/* On hover, darken the color of the background */\n",
       "#sk-container-id-1 div.sk-label:hover label.sk-toggleable__label {\n",
       "  color: var(--sklearn-color-text);\n",
       "  background-color: var(--sklearn-color-unfitted-level-2);\n",
       "}\n",
       "\n",
       "/* Label box, darken color on hover, fitted */\n",
       "#sk-container-id-1 div.sk-label.fitted:hover label.sk-toggleable__label.fitted {\n",
       "  color: var(--sklearn-color-text);\n",
       "  background-color: var(--sklearn-color-fitted-level-2);\n",
       "}\n",
       "\n",
       "/* Estimator label */\n",
       "\n",
       "#sk-container-id-1 div.sk-label label {\n",
       "  font-family: monospace;\n",
       "  font-weight: bold;\n",
       "  display: inline-block;\n",
       "  line-height: 1.2em;\n",
       "}\n",
       "\n",
       "#sk-container-id-1 div.sk-label-container {\n",
       "  text-align: center;\n",
       "}\n",
       "\n",
       "/* Estimator-specific */\n",
       "#sk-container-id-1 div.sk-estimator {\n",
       "  font-family: monospace;\n",
       "  border: 1px dotted var(--sklearn-color-border-box);\n",
       "  border-radius: 0.25em;\n",
       "  box-sizing: border-box;\n",
       "  margin-bottom: 0.5em;\n",
       "  /* unfitted */\n",
       "  background-color: var(--sklearn-color-unfitted-level-0);\n",
       "}\n",
       "\n",
       "#sk-container-id-1 div.sk-estimator.fitted {\n",
       "  /* fitted */\n",
       "  background-color: var(--sklearn-color-fitted-level-0);\n",
       "}\n",
       "\n",
       "/* on hover */\n",
       "#sk-container-id-1 div.sk-estimator:hover {\n",
       "  /* unfitted */\n",
       "  background-color: var(--sklearn-color-unfitted-level-2);\n",
       "}\n",
       "\n",
       "#sk-container-id-1 div.sk-estimator.fitted:hover {\n",
       "  /* fitted */\n",
       "  background-color: var(--sklearn-color-fitted-level-2);\n",
       "}\n",
       "\n",
       "/* Specification for estimator info (e.g. \"i\" and \"?\") */\n",
       "\n",
       "/* Common style for \"i\" and \"?\" */\n",
       "\n",
       ".sk-estimator-doc-link,\n",
       "a:link.sk-estimator-doc-link,\n",
       "a:visited.sk-estimator-doc-link {\n",
       "  float: right;\n",
       "  font-size: smaller;\n",
       "  line-height: 1em;\n",
       "  font-family: monospace;\n",
       "  background-color: var(--sklearn-color-background);\n",
       "  border-radius: 1em;\n",
       "  height: 1em;\n",
       "  width: 1em;\n",
       "  text-decoration: none !important;\n",
       "  margin-left: 1ex;\n",
       "  /* unfitted */\n",
       "  border: var(--sklearn-color-unfitted-level-1) 1pt solid;\n",
       "  color: var(--sklearn-color-unfitted-level-1);\n",
       "}\n",
       "\n",
       ".sk-estimator-doc-link.fitted,\n",
       "a:link.sk-estimator-doc-link.fitted,\n",
       "a:visited.sk-estimator-doc-link.fitted {\n",
       "  /* fitted */\n",
       "  border: var(--sklearn-color-fitted-level-1) 1pt solid;\n",
       "  color: var(--sklearn-color-fitted-level-1);\n",
       "}\n",
       "\n",
       "/* On hover */\n",
       "div.sk-estimator:hover .sk-estimator-doc-link:hover,\n",
       ".sk-estimator-doc-link:hover,\n",
       "div.sk-label-container:hover .sk-estimator-doc-link:hover,\n",
       ".sk-estimator-doc-link:hover {\n",
       "  /* unfitted */\n",
       "  background-color: var(--sklearn-color-unfitted-level-3);\n",
       "  color: var(--sklearn-color-background);\n",
       "  text-decoration: none;\n",
       "}\n",
       "\n",
       "div.sk-estimator.fitted:hover .sk-estimator-doc-link.fitted:hover,\n",
       ".sk-estimator-doc-link.fitted:hover,\n",
       "div.sk-label-container:hover .sk-estimator-doc-link.fitted:hover,\n",
       ".sk-estimator-doc-link.fitted:hover {\n",
       "  /* fitted */\n",
       "  background-color: var(--sklearn-color-fitted-level-3);\n",
       "  color: var(--sklearn-color-background);\n",
       "  text-decoration: none;\n",
       "}\n",
       "\n",
       "/* Span, style for the box shown on hovering the info icon */\n",
       ".sk-estimator-doc-link span {\n",
       "  display: none;\n",
       "  z-index: 9999;\n",
       "  position: relative;\n",
       "  font-weight: normal;\n",
       "  right: .2ex;\n",
       "  padding: .5ex;\n",
       "  margin: .5ex;\n",
       "  width: min-content;\n",
       "  min-width: 20ex;\n",
       "  max-width: 50ex;\n",
       "  color: var(--sklearn-color-text);\n",
       "  box-shadow: 2pt 2pt 4pt #999;\n",
       "  /* unfitted */\n",
       "  background: var(--sklearn-color-unfitted-level-0);\n",
       "  border: .5pt solid var(--sklearn-color-unfitted-level-3);\n",
       "}\n",
       "\n",
       ".sk-estimator-doc-link.fitted span {\n",
       "  /* fitted */\n",
       "  background: var(--sklearn-color-fitted-level-0);\n",
       "  border: var(--sklearn-color-fitted-level-3);\n",
       "}\n",
       "\n",
       ".sk-estimator-doc-link:hover span {\n",
       "  display: block;\n",
       "}\n",
       "\n",
       "/* \"?\"-specific style due to the `<a>` HTML tag */\n",
       "\n",
       "#sk-container-id-1 a.estimator_doc_link {\n",
       "  float: right;\n",
       "  font-size: 1rem;\n",
       "  line-height: 1em;\n",
       "  font-family: monospace;\n",
       "  background-color: var(--sklearn-color-background);\n",
       "  border-radius: 1rem;\n",
       "  height: 1rem;\n",
       "  width: 1rem;\n",
       "  text-decoration: none;\n",
       "  /* unfitted */\n",
       "  color: var(--sklearn-color-unfitted-level-1);\n",
       "  border: var(--sklearn-color-unfitted-level-1) 1pt solid;\n",
       "}\n",
       "\n",
       "#sk-container-id-1 a.estimator_doc_link.fitted {\n",
       "  /* fitted */\n",
       "  border: var(--sklearn-color-fitted-level-1) 1pt solid;\n",
       "  color: var(--sklearn-color-fitted-level-1);\n",
       "}\n",
       "\n",
       "/* On hover */\n",
       "#sk-container-id-1 a.estimator_doc_link:hover {\n",
       "  /* unfitted */\n",
       "  background-color: var(--sklearn-color-unfitted-level-3);\n",
       "  color: var(--sklearn-color-background);\n",
       "  text-decoration: none;\n",
       "}\n",
       "\n",
       "#sk-container-id-1 a.estimator_doc_link.fitted:hover {\n",
       "  /* fitted */\n",
       "  background-color: var(--sklearn-color-fitted-level-3);\n",
       "}\n",
       "</style><div id=\"sk-container-id-1\" class=\"sk-top-container\"><div class=\"sk-text-repr-fallback\"><pre>StackingClassifier(cv=10,\n",
       "                   estimators=[(&#x27;random_forest&#x27;,\n",
       "                                RandomForestClassifier(n_estimators=200,\n",
       "                                                       random_state=42)),\n",
       "                               (&#x27;svm&#x27;,\n",
       "                                Pipeline(steps=[(&#x27;standardscaler&#x27;,\n",
       "                                                 StandardScaler()),\n",
       "                                                (&#x27;svc&#x27;,\n",
       "                                                 SVC(probability=True,\n",
       "                                                     random_state=42))])),\n",
       "                               (&#x27;knn&#x27;, KNeighborsClassifier(n_neighbors=10)),\n",
       "                               (&#x27;decision_tree&#x27;,\n",
       "                                DecisionTreeClassifier(random_state=42))],\n",
       "                   final_estimator=LogisticRegression(random_state=42))</pre><b>In a Jupyter environment, please rerun this cell to show the HTML representation or trust the notebook. <br />On GitHub, the HTML representation is unable to render, please try loading this page with nbviewer.org.</b></div><div class=\"sk-container\" hidden><div class=\"sk-item sk-dashed-wrapped\"><div class=\"sk-label-container\"><div class=\"sk-label fitted sk-toggleable\"><input class=\"sk-toggleable__control sk-hidden--visually\" id=\"sk-estimator-id-1\" type=\"checkbox\" ><label for=\"sk-estimator-id-1\" class=\"sk-toggleable__label fitted sk-toggleable__label-arrow fitted\">&nbsp;&nbsp;StackingClassifier<a class=\"sk-estimator-doc-link fitted\" rel=\"noreferrer\" target=\"_blank\" href=\"https://scikit-learn.org/1.4/modules/generated/sklearn.ensemble.StackingClassifier.html\">?<span>Documentation for StackingClassifier</span></a><span class=\"sk-estimator-doc-link fitted\">i<span>Fitted</span></span></label><div class=\"sk-toggleable__content fitted\"><pre>StackingClassifier(cv=10,\n",
       "                   estimators=[(&#x27;random_forest&#x27;,\n",
       "                                RandomForestClassifier(n_estimators=200,\n",
       "                                                       random_state=42)),\n",
       "                               (&#x27;svm&#x27;,\n",
       "                                Pipeline(steps=[(&#x27;standardscaler&#x27;,\n",
       "                                                 StandardScaler()),\n",
       "                                                (&#x27;svc&#x27;,\n",
       "                                                 SVC(probability=True,\n",
       "                                                     random_state=42))])),\n",
       "                               (&#x27;knn&#x27;, KNeighborsClassifier(n_neighbors=10)),\n",
       "                               (&#x27;decision_tree&#x27;,\n",
       "                                DecisionTreeClassifier(random_state=42))],\n",
       "                   final_estimator=LogisticRegression(random_state=42))</pre></div> </div></div><div class=\"sk-serial\"><div class=\"sk-item\"><div class=\"sk-parallel\"><div class=\"sk-parallel-item\"><div class=\"sk-item\"><div class=\"sk-label-container\"><div class=\"sk-label fitted sk-toggleable\"><label>random_forest</label></div></div><div class=\"sk-serial\"><div class=\"sk-item\"><div class=\"sk-estimator fitted sk-toggleable\"><input class=\"sk-toggleable__control sk-hidden--visually\" id=\"sk-estimator-id-2\" type=\"checkbox\" ><label for=\"sk-estimator-id-2\" class=\"sk-toggleable__label fitted sk-toggleable__label-arrow fitted\">&nbsp;RandomForestClassifier<a class=\"sk-estimator-doc-link fitted\" rel=\"noreferrer\" target=\"_blank\" href=\"https://scikit-learn.org/1.4/modules/generated/sklearn.ensemble.RandomForestClassifier.html\">?<span>Documentation for RandomForestClassifier</span></a></label><div class=\"sk-toggleable__content fitted\"><pre>RandomForestClassifier(n_estimators=200, random_state=42)</pre></div> </div></div></div></div></div><div class=\"sk-parallel-item\"><div class=\"sk-item\"><div class=\"sk-label-container\"><div class=\"sk-label fitted sk-toggleable\"><label>svm</label></div></div><div class=\"sk-serial\"><div class=\"sk-item\"><div class=\"sk-serial\"><div class=\"sk-item\"><div class=\"sk-estimator fitted sk-toggleable\"><input class=\"sk-toggleable__control sk-hidden--visually\" id=\"sk-estimator-id-3\" type=\"checkbox\" ><label for=\"sk-estimator-id-3\" class=\"sk-toggleable__label fitted sk-toggleable__label-arrow fitted\">&nbsp;StandardScaler<a class=\"sk-estimator-doc-link fitted\" rel=\"noreferrer\" target=\"_blank\" href=\"https://scikit-learn.org/1.4/modules/generated/sklearn.preprocessing.StandardScaler.html\">?<span>Documentation for StandardScaler</span></a></label><div class=\"sk-toggleable__content fitted\"><pre>StandardScaler()</pre></div> </div></div><div class=\"sk-item\"><div class=\"sk-estimator fitted sk-toggleable\"><input class=\"sk-toggleable__control sk-hidden--visually\" id=\"sk-estimator-id-4\" type=\"checkbox\" ><label for=\"sk-estimator-id-4\" class=\"sk-toggleable__label fitted sk-toggleable__label-arrow fitted\">&nbsp;SVC<a class=\"sk-estimator-doc-link fitted\" rel=\"noreferrer\" target=\"_blank\" href=\"https://scikit-learn.org/1.4/modules/generated/sklearn.svm.SVC.html\">?<span>Documentation for SVC</span></a></label><div class=\"sk-toggleable__content fitted\"><pre>SVC(probability=True, random_state=42)</pre></div> </div></div></div></div></div></div></div><div class=\"sk-parallel-item\"><div class=\"sk-item\"><div class=\"sk-label-container\"><div class=\"sk-label fitted sk-toggleable\"><label>knn</label></div></div><div class=\"sk-serial\"><div class=\"sk-item\"><div class=\"sk-estimator fitted sk-toggleable\"><input class=\"sk-toggleable__control sk-hidden--visually\" id=\"sk-estimator-id-5\" type=\"checkbox\" ><label for=\"sk-estimator-id-5\" class=\"sk-toggleable__label fitted sk-toggleable__label-arrow fitted\">&nbsp;KNeighborsClassifier<a class=\"sk-estimator-doc-link fitted\" rel=\"noreferrer\" target=\"_blank\" href=\"https://scikit-learn.org/1.4/modules/generated/sklearn.neighbors.KNeighborsClassifier.html\">?<span>Documentation for KNeighborsClassifier</span></a></label><div class=\"sk-toggleable__content fitted\"><pre>KNeighborsClassifier(n_neighbors=10)</pre></div> </div></div></div></div></div><div class=\"sk-parallel-item\"><div class=\"sk-item\"><div class=\"sk-label-container\"><div class=\"sk-label fitted sk-toggleable\"><label>decision_tree</label></div></div><div class=\"sk-serial\"><div class=\"sk-item\"><div class=\"sk-estimator fitted sk-toggleable\"><input class=\"sk-toggleable__control sk-hidden--visually\" id=\"sk-estimator-id-6\" type=\"checkbox\" ><label for=\"sk-estimator-id-6\" class=\"sk-toggleable__label fitted sk-toggleable__label-arrow fitted\">&nbsp;DecisionTreeClassifier<a class=\"sk-estimator-doc-link fitted\" rel=\"noreferrer\" target=\"_blank\" href=\"https://scikit-learn.org/1.4/modules/generated/sklearn.tree.DecisionTreeClassifier.html\">?<span>Documentation for DecisionTreeClassifier</span></a></label><div class=\"sk-toggleable__content fitted\"><pre>DecisionTreeClassifier(random_state=42)</pre></div> </div></div></div></div></div></div></div><div class=\"sk-item\"><div class=\"sk-parallel\"><div class=\"sk-parallel-item\"><div class=\"sk-item\"><div class=\"sk-label-container\"><div class=\"sk-label fitted sk-toggleable\"><label>final_estimator</label></div></div><div class=\"sk-serial\"><div class=\"sk-item\"><div class=\"sk-estimator fitted sk-toggleable\"><input class=\"sk-toggleable__control sk-hidden--visually\" id=\"sk-estimator-id-7\" type=\"checkbox\" ><label for=\"sk-estimator-id-7\" class=\"sk-toggleable__label fitted sk-toggleable__label-arrow fitted\">&nbsp;LogisticRegression<a class=\"sk-estimator-doc-link fitted\" rel=\"noreferrer\" target=\"_blank\" href=\"https://scikit-learn.org/1.4/modules/generated/sklearn.linear_model.LogisticRegression.html\">?<span>Documentation for LogisticRegression</span></a></label><div class=\"sk-toggleable__content fitted\"><pre>LogisticRegression(random_state=42)</pre></div> </div></div></div></div></div></div></div></div></div></div></div>"
      ],
      "text/plain": [
       "StackingClassifier(cv=10,\n",
       "                   estimators=[('random_forest',\n",
       "                                RandomForestClassifier(n_estimators=200,\n",
       "                                                       random_state=42)),\n",
       "                               ('svm',\n",
       "                                Pipeline(steps=[('standardscaler',\n",
       "                                                 StandardScaler()),\n",
       "                                                ('svc',\n",
       "                                                 SVC(probability=True,\n",
       "                                                     random_state=42))])),\n",
       "                               ('knn', KNeighborsClassifier(n_neighbors=10)),\n",
       "                               ('decision_tree',\n",
       "                                DecisionTreeClassifier(random_state=42))],\n",
       "                   final_estimator=LogisticRegression(random_state=42))"
      ]
     },
     "execution_count": 30,
     "metadata": {},
     "output_type": "execute_result"
    }
   ],
   "source": [
    "stacking_model.fit(X_train, y_train)"
   ]
  },
  {
   "cell_type": "code",
   "execution_count": 31,
   "id": "d8bcd35c",
   "metadata": {},
   "outputs": [
    {
     "name": "stdout",
     "output_type": "stream",
     "text": [
      "Validation Accuracy of Stacking Ensemble Model: 0.9364960909737029\n"
     ]
    }
   ],
   "source": [
    "y_pred = stacking_model.predict(X_val)\n",
    "accuracy = accuracy_score(y_val, y_pred)\n",
    "print(\"Validation Accuracy of Stacking Ensemble Model:\", accuracy)"
   ]
  },
  {
   "cell_type": "code",
   "execution_count": 32,
   "id": "5afccc4a",
   "metadata": {},
   "outputs": [
    {
     "name": "stdout",
     "output_type": "stream",
     "text": [
      "              precision    recall  f1-score   support\n",
      "\n",
      "           0       0.95      0.97      0.96     22986\n",
      "           1       0.85      0.79      0.82      5154\n",
      "\n",
      "    accuracy                           0.94     28140\n",
      "   macro avg       0.90      0.88      0.89     28140\n",
      "weighted avg       0.94      0.94      0.94     28140\n",
      "\n"
     ]
    }
   ],
   "source": [
    "report = classification_report(y_val, y_pred)\n",
    "print(report)"
   ]
  },
  {
   "cell_type": "code",
   "execution_count": 33,
   "id": "2fac5e51",
   "metadata": {},
   "outputs": [
    {
     "data": {
      "image/png": "[encoded data removed]",
      "text/plain": [
       "<Figure size 640x480 with 1 Axes>"
      ]
     },
     "metadata": {},
     "output_type": "display_data"
    }
   ],
   "source": [
    "y_pred_prob = stacking_model.predict_proba(X_val)[:, 1]\n",
    "RocCurveDisplay.from_predictions(y_val, y_pred_prob)\n",
    "plt.title(\"ROC Curve for Stacking Ensemble Model\")\n",
    "plt.show()"
   ]
  }
 ],
 "metadata": {
  "kaggle": {
   "accelerator": "none",
   "dataSources": [
    {
     "databundleVersionId": 10008389,
     "sourceId": 84895,
     "sourceType": "competition"
    }
   ],
   "dockerImageVersionId": 30786,
   "isGpuEnabled": false,
   "isInternetEnabled": true,
   "language": "python",
   "sourceType": "notebook"
  },
  "kernelspec": {
   "display_name": "base",
   "language": "python",
   "name": "python3"
  },
  "language_info": {
   "codemirror_mode": {
    "name": "ipython",
    "version": 3
   },
   "file_extension": ".py",
   "mimetype": "text/x-python",
   "name": "python",
   "nbconvert_exporter": "python",
   "pygments_lexer": "ipython3",
   "version": "3.12.4"
  },
  "papermill": {
   "default_parameters": {},
   "duration": 840.688412,
   "end_time": "2024-11-01T18:36:50.317119",
   "environment_variables": {},
   "exception": null,
   "input_path": "__notebook__.ipynb",
   "output_path": "__notebook__.ipynb",
   "parameters": {},
   "start_time": "2024-11-01T18:22:49.628707",
   "version": "2.6.0"
  }
 },
 "nbformat": 4,
 "nbformat_minor": 5
}
